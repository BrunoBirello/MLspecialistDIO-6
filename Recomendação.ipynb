{
 "cells": [
  {
   "cell_type": "code",
   "execution_count": 13,
   "id": "6d02677c-57af-4ab4-8b41-95a206b07884",
   "metadata": {},
   "outputs": [],
   "source": [
    "import torch\n",
    "import torchvision.models as models\n",
    "import torchvision.transforms as transforms\n",
    "import torchvision.datasets as datasets\n",
    "from torch.utils.data import DataLoader\n",
    "from PIL import Image\n",
    "import numpy as np\n",
    "from sklearn.metrics.pairwise import cosine_similarity\n",
    "import matplotlib.pyplot as plt\n",
    "\n",
    "# Configurações\n",
    "image_size = 128\n",
    "num_classes = 10  # Fashion MNIST tem 10 classes\n",
    "\n",
    "# Transformações para as imagens\n",
    "transform = transforms.Compose([\n",
    "    transforms.Resize((image_size, image_size)),\n",
    "    transforms.Grayscale(num_output_channels=3),  # Converte para 3 canais\n",
    "    transforms.ToTensor(),\n",
    "])\n",
    "\n",
    "# Carregar o dataset Fashion MNIST\n",
    "dataset = datasets.FashionMNIST(root='data', train=True, download=True, transform=transform)\n",
    "dataloader = DataLoader(dataset, batch_size=32, shuffle=True)\n",
    "\n",
    "# Carregar o modelo ResNet18 pré-treinado e ajustar para o número de classes\n",
    "model = models.resnet18(pretrained=True)\n",
    "model.fc = torch.nn.Linear(model.fc.in_features, num_classes)\n",
    "model.eval()  # Definir o modelo para o modo de avaliação\n",
    "\n",
    "# Função para extrair características de uma imagem\n",
    "def extract_features(image_path, model):\n",
    "    image = Image.open(image_path).convert('RGB')  # Assegurar que a imagem é RGB\n",
    "    image = transform(image).unsqueeze(0)  # Adicionar batch dimension\n",
    "    with torch.no_grad():\n",
    "        features = model(image)\n",
    "    return features.numpy()\n",
    "\n",
    "# Função para calcular similaridade entre imagens\n",
    "def find_similar_images(query_features, all_features):\n",
    "    similarities = cosine_similarity(query_features, all_features)\n",
    "    return similarities"
   ]
  },
  {
   "cell_type": "code",
   "execution_count": 14,
   "id": "b04ec3c6-8316-473e-8626-b17ca4c3c462",
   "metadata": {
    "scrolled": true
   },
   "outputs": [],
   "source": [
    "def get_all_features(dataloader, model):\n",
    "    all_features = []\n",
    "    with torch.no_grad():\n",
    "        for images, _ in dataloader:\n",
    "            features = model(images)\n",
    "            all_features.append(features.numpy())\n",
    "    return np.concatenate(all_features, axis=0)\n",
    "\n",
    "# Extraindo características de todas as imagens no dataset\n",
    "all_image_features = get_all_features(dataloader, model)"
   ]
  },
  {
   "cell_type": "code",
   "execution_count": 16,
   "id": "c9b55f35-f63c-4360-9bd8-f597cbd66618",
   "metadata": {},
   "outputs": [
    {
     "ename": "ValueError",
     "evalue": "only one element tensors can be converted to Python scalars",
     "output_type": "error",
     "traceback": [
      "\u001b[1;31m---------------------------------------------------------------------------\u001b[0m",
      "\u001b[1;31mValueError\u001b[0m                                Traceback (most recent call last)",
      "Cell \u001b[1;32mIn[16], line 15\u001b[0m\n\u001b[0;32m     12\u001b[0m     plt\u001b[38;5;241m.\u001b[39mshow()\n\u001b[0;32m     14\u001b[0m \u001b[38;5;66;03m# Substitua 'path_to_your_image.jpg' pelo caminho da imagem que deseja usar\u001b[39;00m\n\u001b[1;32m---> 15\u001b[0m recommend_images(\u001b[38;5;124mr\u001b[39m\u001b[38;5;124m\"\u001b[39m\u001b[38;5;124mC:\u001b[39m\u001b[38;5;124m\\\u001b[39m\u001b[38;5;124mUsers\u001b[39m\u001b[38;5;124m\\\u001b[39m\u001b[38;5;124mBruno Birello\u001b[39m\u001b[38;5;124m\\\u001b[39m\u001b[38;5;124mDownloads\u001b[39m\u001b[38;5;124m\\\u001b[39m\u001b[38;5;124mOculos.jpg\u001b[39m\u001b[38;5;124m\"\u001b[39m)\n",
      "Cell \u001b[1;32mIn[16], line 10\u001b[0m, in \u001b[0;36mrecommend_images\u001b[1;34m(query_image_path)\u001b[0m\n\u001b[0;32m      8\u001b[0m \u001b[38;5;28;01mfor\u001b[39;00m i, idx \u001b[38;5;129;01min\u001b[39;00m \u001b[38;5;28menumerate\u001b[39m(recommended_indices[:\u001b[38;5;241m5\u001b[39m]):  \u001b[38;5;66;03m# Mostrar as 5 imagens mais similares\u001b[39;00m\n\u001b[0;32m      9\u001b[0m     plt\u001b[38;5;241m.\u001b[39msubplot(\u001b[38;5;241m1\u001b[39m, \u001b[38;5;241m5\u001b[39m, i \u001b[38;5;241m+\u001b[39m \u001b[38;5;241m1\u001b[39m)\n\u001b[1;32m---> 10\u001b[0m     plt\u001b[38;5;241m.\u001b[39mimshow(dataset[idx][\u001b[38;5;241m0\u001b[39m]\u001b[38;5;241m.\u001b[39mpermute(\u001b[38;5;241m1\u001b[39m, \u001b[38;5;241m2\u001b[39m, \u001b[38;5;241m0\u001b[39m))  \u001b[38;5;66;03m# Reordenar as dimensões da imagem\u001b[39;00m\n\u001b[0;32m     11\u001b[0m     plt\u001b[38;5;241m.\u001b[39maxis(\u001b[38;5;124m'\u001b[39m\u001b[38;5;124moff\u001b[39m\u001b[38;5;124m'\u001b[39m)\n\u001b[0;32m     12\u001b[0m plt\u001b[38;5;241m.\u001b[39mshow()\n",
      "File \u001b[1;32m~\\anaconda3\\envs\\MorganaAI\\Lib\\site-packages\\torchvision\\datasets\\mnist.py:139\u001b[0m, in \u001b[0;36mMNIST.__getitem__\u001b[1;34m(self, index)\u001b[0m\n\u001b[0;32m    131\u001b[0m \u001b[38;5;28;01mdef\u001b[39;00m \u001b[38;5;21m__getitem__\u001b[39m(\u001b[38;5;28mself\u001b[39m, index: \u001b[38;5;28mint\u001b[39m) \u001b[38;5;241m-\u001b[39m\u001b[38;5;241m>\u001b[39m Tuple[Any, Any]:\n\u001b[0;32m    132\u001b[0m \u001b[38;5;250m    \u001b[39m\u001b[38;5;124;03m\"\"\"\u001b[39;00m\n\u001b[0;32m    133\u001b[0m \u001b[38;5;124;03m    Args:\u001b[39;00m\n\u001b[0;32m    134\u001b[0m \u001b[38;5;124;03m        index (int): Index\u001b[39;00m\n\u001b[1;32m   (...)\u001b[0m\n\u001b[0;32m    137\u001b[0m \u001b[38;5;124;03m        tuple: (image, target) where target is index of the target class.\u001b[39;00m\n\u001b[0;32m    138\u001b[0m \u001b[38;5;124;03m    \"\"\"\u001b[39;00m\n\u001b[1;32m--> 139\u001b[0m     img, target \u001b[38;5;241m=\u001b[39m \u001b[38;5;28mself\u001b[39m\u001b[38;5;241m.\u001b[39mdata[index], \u001b[38;5;28mint\u001b[39m(\u001b[38;5;28mself\u001b[39m\u001b[38;5;241m.\u001b[39mtargets[index])\n\u001b[0;32m    141\u001b[0m     \u001b[38;5;66;03m# doing this so that it is consistent with all other datasets\u001b[39;00m\n\u001b[0;32m    142\u001b[0m     \u001b[38;5;66;03m# to return a PIL Image\u001b[39;00m\n\u001b[0;32m    143\u001b[0m     img \u001b[38;5;241m=\u001b[39m Image\u001b[38;5;241m.\u001b[39mfromarray(img\u001b[38;5;241m.\u001b[39mnumpy(), mode\u001b[38;5;241m=\u001b[39m\u001b[38;5;124m\"\u001b[39m\u001b[38;5;124mL\u001b[39m\u001b[38;5;124m\"\u001b[39m)\n",
      "\u001b[1;31mValueError\u001b[0m: only one element tensors can be converted to Python scalars"
     ]
    }
   ],
   "source": [
    "def recommend_images(query_image_path):\n",
    "    query_features = extract_features(query_image_path, model)\n",
    "    similarities = find_similar_images(query_features, all_image_features)\n",
    "    recommended_indices = similarities.argsort()[::-1]\n",
    "    \n",
    "    # Exibir as imagens recomendadas\n",
    "    plt.figure(figsize=(10, 10))\n",
    "    for i, idx in enumerate(recommended_indices[:5]):  # Mostrar as 5 imagens mais similares\n",
    "        plt.subplot(1, 5, i + 1)\n",
    "        plt.imshow(dataset[idx][0].permute(1, 2, 0))  # Reordenar as dimensões da imagem\n",
    "        plt.axis('off')\n",
    "    plt.show()\n",
    "\n",
    "# Substitua 'path_to_your_image.jpg' pelo caminho da imagem que deseja usar\n",
    "recommend_images(r\"C:\\Users\\Bruno Birello\\Downloads\\Oculos.jpg\")"
   ]
  },
  {
   "cell_type": "code",
   "execution_count": null,
   "id": "317271ab-c5ed-4f66-961a-53cfdd3f30b6",
   "metadata": {},
   "outputs": [],
   "source": []
  }
 ],
 "metadata": {
  "kernelspec": {
   "display_name": "Python 3 (ipykernel)",
   "language": "python",
   "name": "python3"
  },
  "language_info": {
   "codemirror_mode": {
    "name": "ipython",
    "version": 3
   },
   "file_extension": ".py",
   "mimetype": "text/x-python",
   "name": "python",
   "nbconvert_exporter": "python",
   "pygments_lexer": "ipython3",
   "version": "3.11.9"
  }
 },
 "nbformat": 4,
 "nbformat_minor": 5
}
